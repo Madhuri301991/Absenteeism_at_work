{
 "cells": [
  {
   "cell_type": "code",
   "execution_count": null,
   "id": "57644345",
   "metadata": {
    "scrolled": true
   },
   "outputs": [],
   "source": [
    "import pandas as pd\n",
    "raw_csv_data=pd.read_csv(\"Absenteeism_data.csv\")\n",
    "raw_csv_data"
   ]
  },
  {
   "cell_type": "code",
   "execution_count": null,
   "id": "64a87539",
   "metadata": {},
   "outputs": [],
   "source": [
    "df=raw_csv_data.copy()"
   ]
  },
  {
   "cell_type": "code",
   "execution_count": null,
   "id": "53b0824a",
   "metadata": {},
   "outputs": [],
   "source": [
    "df"
   ]
  },
  {
   "cell_type": "code",
   "execution_count": null,
   "id": "6cabc2dd",
   "metadata": {},
   "outputs": [],
   "source": [
    "pd.options.display.max_columns=None    #set to no maximum value\n",
    "pd.options.display.max_rows=None       "
   ]
  },
  {
   "cell_type": "code",
   "execution_count": null,
   "id": "edcbb827",
   "metadata": {},
   "outputs": [],
   "source": [
    "display(df)"
   ]
  },
  {
   "cell_type": "code",
   "execution_count": null,
   "id": "20cbfdb1",
   "metadata": {},
   "outputs": [],
   "source": [
    "df.info()     #prints a concise summary of the data frame"
   ]
  },
  {
   "cell_type": "code",
   "execution_count": null,
   "id": "57def02c",
   "metadata": {},
   "outputs": [],
   "source": [
    "#drop() removes specified rows or columns\n",
    "df=df.drop(['ID'],axis=1)  "
   ]
  },
  {
   "cell_type": "code",
   "execution_count": null,
   "id": "ce090893",
   "metadata": {},
   "outputs": [],
   "source": [
    "df_no_age=df.drop(['Age'],axis=1)\n",
    "df_no_age"
   ]
  },
  {
   "cell_type": "code",
   "execution_count": null,
   "id": "58a3e329",
   "metadata": {},
   "outputs": [],
   "source": [
    "#pd.unique() - extracts distinct values only\n",
    "pd.unique(df['Reason for Absence'])"
   ]
  },
  {
   "cell_type": "code",
   "execution_count": null,
   "id": "886bf1b7",
   "metadata": {},
   "outputs": [],
   "source": [
    "# .unique() - extracts distinct values only\n",
    "df['Reason for Absence'].unique()"
   ]
  },
  {
   "cell_type": "code",
   "execution_count": null,
   "id": "3ab027c0",
   "metadata": {},
   "outputs": [],
   "source": [
    "# len() returns the number of elements in an object\n",
    "len(df['Reason for Absence'].unique())   #29 different reasons for absence from work"
   ]
  },
  {
   "cell_type": "code",
   "execution_count": null,
   "id": "f3adeb0d",
   "metadata": {},
   "outputs": [],
   "source": [
    "# sorted() returns a new, sorted list from the items in its argument\n",
    "sorted(df['Reason for Absence'].unique())"
   ]
  },
  {
   "cell_type": "markdown",
   "id": "c26df65a",
   "metadata": {},
   "source": [
    "# splitting columns into multiple dummies"
   ]
  },
  {
   "cell_type": "code",
   "execution_count": null,
   "id": "236d56c0",
   "metadata": {},
   "outputs": [],
   "source": [
    "# .get_dummies() converts categorical variable into dummy variables\n",
    "reason_columns=pd.get_dummies(df['Reason for Absence'])\n",
    "reason_columns"
   ]
  },
  {
   "cell_type": "code",
   "execution_count": null,
   "id": "15755c6a",
   "metadata": {},
   "outputs": [],
   "source": [
    "\n",
    "reason_columns['check']=reason_columns.sum(axis=1)\n",
    "reason_columns"
   ]
  },
  {
   "cell_type": "code",
   "execution_count": null,
   "id": "96ab5bc9",
   "metadata": {},
   "outputs": [],
   "source": [
    "reason_columns['check'].sum(axis=0)"
   ]
  },
  {
   "cell_type": "code",
   "execution_count": null,
   "id": "a40e93cd",
   "metadata": {},
   "outputs": [],
   "source": [
    "reason_columns['check'].unique()"
   ]
  },
  {
   "cell_type": "code",
   "execution_count": null,
   "id": "f8ae367f",
   "metadata": {},
   "outputs": [],
   "source": [
    "reason_columns=reason_columns.drop(['check'],axis=1)\n",
    "reason_columns"
   ]
  },
  {
   "cell_type": "code",
   "execution_count": null,
   "id": "e2830620",
   "metadata": {},
   "outputs": [],
   "source": [
    "age_dummies=pd.get_dummies(df['Age'])\n",
    "age_dummies"
   ]
  },
  {
   "cell_type": "code",
   "execution_count": null,
   "id": "d048f2f6",
   "metadata": {
    "scrolled": true
   },
   "outputs": [],
   "source": [
    "# drop 0 to avoid potential multicollinearity issues\n",
    "reason_columns=pd.get_dummies(df['Reason for Absence'],drop_first=True)\n",
    "reason_columns"
   ]
  },
  {
   "cell_type": "markdown",
   "id": "5f00b700",
   "metadata": {},
   "source": [
    "# Group the reasons for absence"
   ]
  },
  {
   "cell_type": "code",
   "execution_count": null,
   "id": "70dfc3fe",
   "metadata": {},
   "outputs": [],
   "source": [
    "df.columns.values"
   ]
  },
  {
   "cell_type": "code",
   "execution_count": null,
   "id": "68df54dc",
   "metadata": {},
   "outputs": [],
   "source": [
    "#step1 \n",
    "df=df.drop(['Reason for Absence'],axis=1)  #drop 'Reason for Absence' because it leads to multicollinearity"
   ]
  },
  {
   "cell_type": "code",
   "execution_count": null,
   "id": "b80a040b",
   "metadata": {},
   "outputs": [],
   "source": [
    "df"
   ]
  },
  {
   "cell_type": "code",
   "execution_count": null,
   "id": "eb4b2ff8",
   "metadata": {},
   "outputs": [],
   "source": [
    "reason_type_1=reason_columns.loc[:,1:14].max(axis=1)\n",
    "reason_type_2=reason_columns.loc[:,15:17].max(axis=1)\n",
    "reason_type_3=reason_columns.loc[:,18:21].max(axis=1)\n",
    "reason_type_4=reason_columns.loc[:,22:].max(axis=1)\n",
    "#create all the four new columns"
   ]
  },
  {
   "cell_type": "markdown",
   "id": "8d3226a6",
   "metadata": {},
   "source": [
    "# Concatenate column values"
   ]
  },
  {
   "cell_type": "code",
   "execution_count": null,
   "id": "b0dfae28",
   "metadata": {},
   "outputs": [],
   "source": [
    "# step 3 \n",
    "df"
   ]
  },
  {
   "cell_type": "code",
   "execution_count": null,
   "id": "0cfa772c",
   "metadata": {},
   "outputs": [],
   "source": [
    "# pd.concat()   = concatenate\n",
    "# pandas is used to join reasons_ column to the dataframe df\n",
    "df=pd.concat([df,reason_type_1,reason_type_2,reason_type_3,reason_type_4],axis=1)\n",
    "df"
   ]
  },
  {
   "cell_type": "code",
   "execution_count": null,
   "id": "d6e064dd",
   "metadata": {},
   "outputs": [],
   "source": [
    "df.columns.values  #retrieve the column names of the dataset"
   ]
  },
  {
   "cell_type": "code",
   "execution_count": null,
   "id": "65f04370",
   "metadata": {
    "scrolled": false
   },
   "outputs": [],
   "source": [
    "# rename the last four columns to reason_1, reason_2,reason_3,reason_4\n",
    "column_names=['Date', 'Transportation Expense', 'Distance to Work', 'Age',\n",
    "       'Daily Work Load Average', 'Body Mass Index', 'Education',\n",
    "       'Children', 'Pets', 'Absenteeism Time in Hours','Reason_1','Reason_2','Reason_3','Reason_4']\n",
    "df.columns=column_names"
   ]
  },
  {
   "cell_type": "code",
   "execution_count": null,
   "id": "d0cd62b0",
   "metadata": {},
   "outputs": [],
   "source": [
    "# .head() displays the top five rows of our data table, together with the relevant column names\n",
    "df.head()"
   ]
  },
  {
   "cell_type": "code",
   "execution_count": null,
   "id": "225fee81",
   "metadata": {},
   "outputs": [],
   "source": [
    "#Concatenate the df_no_age and age_dummies objects.\n",
    "#Store the result in a new object called df_concatenated.\n",
    "df_concatenated=pd.concat([df_no_age,age_dummies],axis=1)\n",
    "df_concatenated\n"
   ]
  },
  {
   "cell_type": "markdown",
   "id": "d6f92b54",
   "metadata": {},
   "source": [
    "# Reorder columns"
   ]
  },
  {
   "cell_type": "code",
   "execution_count": null,
   "id": "37fc8ad6",
   "metadata": {},
   "outputs": [],
   "source": [
    "#change the order of the columns\n",
    "column_names_reordered=['Reason_1','Reason_2','Reason_3','Reason_4','Date', 'Transportation Expense', 'Distance to Work', 'Age',\n",
    "       'Daily Work Load Average', 'Body Mass Index', 'Education',\n",
    "       'Children', 'Pets', 'Absenteeism Time in Hours']\n",
    "df=df[column_names_reordered]\n",
    "df.head()"
   ]
  },
  {
   "cell_type": "code",
   "execution_count": null,
   "id": "960701dd",
   "metadata": {},
   "outputs": [],
   "source": [
    "#Reorder the columns from df_concatented in such a way that the ‘Absenteeism Time in Hours’ column appears at the far right of the data set.\n",
    "df_concatenated.columns.values"
   ]
  },
  {
   "cell_type": "code",
   "execution_count": null,
   "id": "fbedbb5f",
   "metadata": {},
   "outputs": [],
   "source": [
    "column_names=['Reason for Absence', 'Date', 'Transportation Expense',\n",
    "       'Distance to Work', 'Daily Work Load Average', 'Body Mass Index',\n",
    "       'Education', 'Children', 'Pets', 27,\n",
    "       28, 29, 30, 31, 32, 33, 34, 36, 37, 38, 39, 40, 41, 43, 46, 47, 48,\n",
    "       49, 50, 58,'Absenteeism Time in Hours']\n",
    "df_concatenated=df_concatenated[column_names]\n",
    "df_concatenated.head()"
   ]
  },
  {
   "cell_type": "markdown",
   "id": "3f072674",
   "metadata": {},
   "source": [
    "# create a checkpoint"
   ]
  },
  {
   "cell_type": "code",
   "execution_count": null,
   "id": "e514b3eb",
   "metadata": {},
   "outputs": [],
   "source": [
    "#checkpoint --> interim save of your work \n",
    "df_reason_mod=df.copy()\n",
    "df_reason_mod"
   ]
  },
  {
   "cell_type": "code",
   "execution_count": null,
   "id": "a6e67418",
   "metadata": {},
   "outputs": [],
   "source": [
    "#Create a checkpoint of your work on the exercises,\n",
    "#storing the current output in a variable called df_checkpoint.\n",
    "df_checkpoint=df_concatenated.copy()\n",
    "df_checkpoint"
   ]
  },
  {
   "cell_type": "markdown",
   "id": "8b2f88fb",
   "metadata": {},
   "source": [
    "# Date"
   ]
  },
  {
   "cell_type": "code",
   "execution_count": null,
   "id": "3f6704d4",
   "metadata": {},
   "outputs": [],
   "source": [
    "#date is a python series object\n",
    "df_reason_mod['Date']"
   ]
  },
  {
   "cell_type": "code",
   "execution_count": null,
   "id": "76148ea5",
   "metadata": {},
   "outputs": [],
   "source": [
    "#timestamp used for values representing dates and time \n",
    "#pd.to_datetime() converts values into timestamp\n",
    "df_reason_mod['Date']=pd.to_datetime(df_reason_mod['Date'],format='%d/%m/%Y')"
   ]
  },
  {
   "cell_type": "code",
   "execution_count": null,
   "id": "69aaba07",
   "metadata": {},
   "outputs": [],
   "source": [
    "df_reason_mod['Date'] \n",
    "# standard timestamp year-month-day"
   ]
  },
  {
   "cell_type": "markdown",
   "id": "5fb4a2df",
   "metadata": {},
   "source": [
    "# Extract the month value"
   ]
  },
  {
   "cell_type": "code",
   "execution_count": null,
   "id": "8ecb43ee",
   "metadata": {},
   "outputs": [],
   "source": [
    "# timestamp of pandas contain date and time \n",
    "type(df_reason_mod['Date'][0])"
   ]
  },
  {
   "cell_type": "code",
   "execution_count": null,
   "id": "774db9c0",
   "metadata": {},
   "outputs": [],
   "source": [
    "df_reason_mod['Date'][0].month   #months take value from 1 to 12"
   ]
  },
  {
   "cell_type": "code",
   "execution_count": null,
   "id": "c5a0418b",
   "metadata": {},
   "outputs": [],
   "source": [
    "df_reason_mod.shape #first value represents length and second represents widht (700,12)"
   ]
  },
  {
   "cell_type": "code",
   "execution_count": null,
   "id": "e0be44be",
   "metadata": {},
   "outputs": [],
   "source": [
    "list_months=[]"
   ]
  },
  {
   "cell_type": "code",
   "execution_count": null,
   "id": "1a55ef9d",
   "metadata": {},
   "outputs": [],
   "source": [
    "for i in range(df_reason_mod.shape[0]):          #for i in range(700):\n",
    "    list_months.append(df_reason_mod['Date'][i].month) #extract month value from each date column"
   ]
  },
  {
   "cell_type": "code",
   "execution_count": null,
   "id": "becdd361",
   "metadata": {},
   "outputs": [],
   "source": [
    "list_months"
   ]
  },
  {
   "cell_type": "code",
   "execution_count": null,
   "id": "eb539c3b",
   "metadata": {},
   "outputs": [],
   "source": [
    "len(list_months)"
   ]
  },
  {
   "cell_type": "code",
   "execution_count": null,
   "id": "eae5e1fd",
   "metadata": {},
   "outputs": [],
   "source": [
    "df_reason_mod['Month Value']=list_months"
   ]
  },
  {
   "cell_type": "code",
   "execution_count": null,
   "id": "1418645d",
   "metadata": {},
   "outputs": [],
   "source": [
    "df_reason_mod.head(20)"
   ]
  },
  {
   "cell_type": "markdown",
   "id": "ebd73169",
   "metadata": {},
   "source": [
    "# Extract the Day of the week "
   ]
  },
  {
   "cell_type": "code",
   "execution_count": null,
   "id": "8c749e0f",
   "metadata": {},
   "outputs": [],
   "source": [
    "df_reason_mod['Date'][699].weekday()"
   ]
  },
  {
   "cell_type": "code",
   "execution_count": null,
   "id": "beb6d881",
   "metadata": {},
   "outputs": [],
   "source": [
    "def date_to_weekday(date_value):\n",
    "    return date_value.weekday()"
   ]
  },
  {
   "cell_type": "code",
   "execution_count": null,
   "id": "f31ef478",
   "metadata": {},
   "outputs": [],
   "source": [
    "df_reason_mod['Day of the week']=df_reason_mod['Date'].apply(date_to_weekday)\n",
    "# apply will repeatatively apply the date_to_weekday function to all rows of Date column"
   ]
  },
  {
   "cell_type": "code",
   "execution_count": null,
   "id": "03271f26",
   "metadata": {},
   "outputs": [],
   "source": [
    "df_reason_mod.head()"
   ]
  },
  {
   "cell_type": "code",
   "execution_count": null,
   "id": "14629316",
   "metadata": {},
   "outputs": [],
   "source": [
    "df_reason_mod=df_reason_mod.drop(['Date'],axis=1)"
   ]
  },
  {
   "cell_type": "code",
   "execution_count": null,
   "id": "37d4f8d5",
   "metadata": {},
   "outputs": [],
   "source": [
    "df_reason_mod.head()"
   ]
  },
  {
   "cell_type": "code",
   "execution_count": null,
   "id": "dc430969",
   "metadata": {},
   "outputs": [],
   "source": [
    "df_reason_mod.columns.values"
   ]
  },
  {
   "cell_type": "code",
   "execution_count": null,
   "id": "63d9e2c1",
   "metadata": {},
   "outputs": [],
   "source": [
    "column_names=['Reason_1', 'Reason_2', 'Reason_3', 'Reason_4','Month Value',\n",
    "       'Day of the week','Transportation Expense', 'Distance to Work', 'Age',\n",
    "       'Daily Work Load Average', 'Body Mass Index', 'Education',\n",
    "       'Children', 'Pets', 'Absenteeism Time in Hours']\n",
    "df_reason_mod=df_reason_mod[column_names]"
   ]
  },
  {
   "cell_type": "code",
   "execution_count": null,
   "id": "941ce983",
   "metadata": {},
   "outputs": [],
   "source": [
    "df_reason_mod.head()"
   ]
  },
  {
   "cell_type": "code",
   "execution_count": null,
   "id": "a073ecf7",
   "metadata": {},
   "outputs": [],
   "source": [
    "#Exercise - Create another checkpoint, calling the new variable df_reason_date_mod.\n",
    "df_reason_date_mod=df_reason_mod.copy()\n",
    "df_reason_date_mod.head()"
   ]
  },
  {
   "cell_type": "markdown",
   "id": "138e9931",
   "metadata": {},
   "source": [
    "# transform eduction column"
   ]
  },
  {
   "cell_type": "code",
   "execution_count": null,
   "id": "da43eb7a",
   "metadata": {},
   "outputs": [],
   "source": [
    "#unique() extracts distinct values only \n",
    "df_reason_date_mod['Education'].unique()"
   ]
  },
  {
   "cell_type": "code",
   "execution_count": null,
   "id": "b340fbd3",
   "metadata": {},
   "outputs": [],
   "source": [
    "# value_counts shows each of 1,2,3,4 Education values have been encountered how many times\n",
    "df_reason_date_mod['Education'].value_counts()"
   ]
  },
  {
   "cell_type": "code",
   "execution_count": null,
   "id": "53b15ea3",
   "metadata": {},
   "outputs": [],
   "source": [
    "# syntax of map is .map({Dictionary}) #Dictionary is a key value pair\n",
    "df_reason_date_mod['Education']=df_reason_date_mod['Education'].map({1:0,2:1,3:1,4:1})\n"
   ]
  },
  {
   "cell_type": "code",
   "execution_count": null,
   "id": "44568775",
   "metadata": {},
   "outputs": [],
   "source": [
    "df_reason_date_mod['Education'].unique() #now the values in Education column are 0 or 1"
   ]
  },
  {
   "cell_type": "code",
   "execution_count": null,
   "id": "2570a15d",
   "metadata": {},
   "outputs": [],
   "source": [
    "df_reason_date_mod['Education'].value_counts()"
   ]
  },
  {
   "cell_type": "markdown",
   "id": "a84dae84",
   "metadata": {},
   "source": [
    "# Final Checkpoint"
   ]
  },
  {
   "cell_type": "code",
   "execution_count": null,
   "id": "11bea21c",
   "metadata": {
    "scrolled": true
   },
   "outputs": [],
   "source": [
    "df_preprocessed=df_reason_date_mod.copy()\n",
    "df_preprocessed.head(10)\n",
    "# the more manual way of preprocessing gives you a higher level of control over your data"
   ]
  },
  {
   "cell_type": "code",
   "execution_count": null,
   "id": "8c1682cd",
   "metadata": {},
   "outputs": [],
   "source": [
    "# exporting the dataset as a .csv file \n",
    "df_preprocessed.to_csv(\"Absenteeism_preprocessed.csv\",index=False)"
   ]
  }
 ],
 "metadata": {
  "kernelspec": {
   "display_name": "Python 3 (ipykernel)",
   "language": "python",
   "name": "python3"
  },
  "language_info": {
   "codemirror_mode": {
    "name": "ipython",
    "version": 3
   },
   "file_extension": ".py",
   "mimetype": "text/x-python",
   "name": "python",
   "nbconvert_exporter": "python",
   "pygments_lexer": "ipython3",
   "version": "3.9.12"
  }
 },
 "nbformat": 4,
 "nbformat_minor": 5
}
