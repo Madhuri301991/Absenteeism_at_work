{
 "cells": [
  {
   "cell_type": "markdown",
   "id": "95cfa62f",
   "metadata": {},
   "source": [
    "# creating a logisitc regression to predict absenteeism"
   ]
  },
  {
   "cell_type": "code",
   "execution_count": null,
   "id": "6ed06ba1",
   "metadata": {},
   "outputs": [],
   "source": [
    "import pandas as pd\n",
    "import numpy as np "
   ]
  },
  {
   "cell_type": "code",
   "execution_count": null,
   "id": "30de0951",
   "metadata": {},
   "outputs": [],
   "source": [
    "data_preprocessed=pd.read_csv(\"Absenteeism_preprocessed.csv\")"
   ]
  },
  {
   "cell_type": "code",
   "execution_count": null,
   "id": "dc142662",
   "metadata": {
    "scrolled": true
   },
   "outputs": [],
   "source": [
    "data_preprocessed.head()"
   ]
  },
  {
   "cell_type": "markdown",
   "id": "b4f87683",
   "metadata": {},
   "source": [
    "# create the targets"
   ]
  },
  {
   "cell_type": "code",
   "execution_count": null,
   "id": "198f5226",
   "metadata": {},
   "outputs": [],
   "source": [
    "data_preprocessed['Absenteeism Time in Hours'].median()"
   ]
  },
  {
   "cell_type": "code",
   "execution_count": null,
   "id": "08b220c6",
   "metadata": {},
   "outputs": [],
   "source": [
    "# np.where(condition,value if True, value if False) \n",
    "targets=np.where(data_preprocessed['Absenteeism Time in Hours'] > data_preprocessed['Absenteeism Time in Hours'].median() ,1,0)\n",
    "targets"
   ]
  },
  {
   "cell_type": "code",
   "execution_count": null,
   "id": "34641620",
   "metadata": {},
   "outputs": [],
   "source": [
    "data_preprocessed['Excessive Absenteeism']=targets\n",
    "data_preprocessed.head()"
   ]
  },
  {
   "cell_type": "code",
   "execution_count": null,
   "id": "76c38346",
   "metadata": {},
   "outputs": [],
   "source": [
    "#divide the no of targets by 1 to the total no of targets\n",
    "# no of targets by 1 =targets.sum()\n",
    "# total no of targets = targets.shape[0]\n",
    "targets.sum()/targets.shape[0]"
   ]
  },
  {
   "cell_type": "code",
   "execution_count": null,
   "id": "0ae2468d",
   "metadata": {},
   "outputs": [],
   "source": [
    "data_with_targets=data_preprocessed.drop(['Absenteeism Time in Hours','Day of the week','Daily Work Load Average','Distance to Work'],axis=1)"
   ]
  },
  {
   "cell_type": "code",
   "execution_count": null,
   "id": "9efa2fab",
   "metadata": {},
   "outputs": [],
   "source": [
    "# reserved word is --> returns either True or False\n",
    "data_with_targets is data_preprocessed"
   ]
  },
  {
   "cell_type": "code",
   "execution_count": null,
   "id": "1cca4044",
   "metadata": {},
   "outputs": [],
   "source": [
    "data_with_targets.head()\n",
    "#data_with_targets is our checkpoint"
   ]
  },
  {
   "cell_type": "markdown",
   "id": "416187c5",
   "metadata": {},
   "source": [
    "# select the inputs for the regression "
   ]
  },
  {
   "cell_type": "code",
   "execution_count": null,
   "id": "8d998138",
   "metadata": {},
   "outputs": [],
   "source": [
    "data_with_targets.shape"
   ]
  },
  {
   "cell_type": "code",
   "execution_count": null,
   "id": "030c55f9",
   "metadata": {},
   "outputs": [],
   "source": [
    "data_with_targets.iloc[:,:14]   # or data_with_targets.iloc[:,0:14] (same)"
   ]
  },
  {
   "cell_type": "code",
   "execution_count": null,
   "id": "e0c128bb",
   "metadata": {},
   "outputs": [],
   "source": [
    "data_with_targets.iloc[:,:-1]"
   ]
  },
  {
   "cell_type": "code",
   "execution_count": null,
   "id": "b4118f18",
   "metadata": {},
   "outputs": [],
   "source": [
    "unscaled_inputs=data_with_targets.iloc[:,:-1]"
   ]
  },
  {
   "cell_type": "markdown",
   "id": "192d17ea",
   "metadata": {},
   "source": [
    "# Standarize the data \n"
   ]
  },
  {
   "cell_type": "code",
   "execution_count": null,
   "id": "c5b6b771",
   "metadata": {},
   "outputs": [],
   "source": [
    "# our custom scaler will not standardize the inputs, but only the ones we choose, so dummies wont be touched\n",
    "# custom scaler code is based on standard scaler\n",
    "from sklearn.base import BaseEstimator,TransformerMixin\n",
    "from sklearn.preprocessing import StandardScaler\n",
    "class CustomScaler(BaseEstimator,TransformerMixin):\n",
    "    def __init__(self,columns):\n",
    "        self.scaler=StandardScaler()\n",
    "        self.columns=columns\n",
    "      \n",
    "\n",
    "    def fit(self,X,y=None):\n",
    "        self.scaler.fit(X[self.columns],y)\n",
    "        self.mean_=np.mean(X[self.columns])\n",
    "        self.var_=np.var(X[self.columns])\n",
    "        return self\n",
    "    \n",
    "    def transform(self,X,y=None,copy=None):\n",
    "        init_col_order=X.columns\n",
    "        X_scaled=pd.DataFrame(self.scaler.transform(X[self.columns]),columns=self.columns)\n",
    "        X_not_scaled=X.loc[:,~X.columns.isin(self.columns)]\n",
    "        return pd.concat([X_not_scaled,X_scaled],axis=1)[init_col_order]"
   ]
  },
  {
   "cell_type": "code",
   "execution_count": null,
   "id": "01c57a85",
   "metadata": {},
   "outputs": [],
   "source": [
    "unscaled_inputs.columns.values"
   ]
  },
  {
   "cell_type": "code",
   "execution_count": null,
   "id": "c7b683d5",
   "metadata": {},
   "outputs": [],
   "source": [
    "columns_to_omit=['Reason_1', 'Reason_2', 'Reason_3', 'Reason_4','Education']\n",
    "columns_to_scale=[x for x in unscaled_inputs.columns.values if x not in columns_to_omit]"
   ]
  },
  {
   "cell_type": "code",
   "execution_count": null,
   "id": "3f98ec68",
   "metadata": {},
   "outputs": [],
   "source": [
    "absenteeism_scaler=CustomScaler(columns_to_scale)"
   ]
  },
  {
   "cell_type": "code",
   "execution_count": null,
   "id": "ec7dfbf7",
   "metadata": {},
   "outputs": [],
   "source": [
    "absenteeism_scaler.fit(unscaled_inputs) "
   ]
  },
  {
   "cell_type": "code",
   "execution_count": null,
   "id": "404f1234",
   "metadata": {},
   "outputs": [],
   "source": [
    "scaled_inputs=absenteeism_scaler.transform(unscaled_inputs)\n",
    "scaled_inputs"
   ]
  },
  {
   "cell_type": "code",
   "execution_count": null,
   "id": "bda9737d",
   "metadata": {},
   "outputs": [],
   "source": [
    "scaled_inputs.shape"
   ]
  },
  {
   "cell_type": "markdown",
   "id": "ca460265",
   "metadata": {},
   "source": [
    "# Split the data into train & test and suffle"
   ]
  },
  {
   "cell_type": "markdown",
   "id": "9509a2c9",
   "metadata": {},
   "source": [
    "# Import the relevant module"
   ]
  },
  {
   "cell_type": "code",
   "execution_count": null,
   "id": "2c4b70fa",
   "metadata": {},
   "outputs": [],
   "source": [
    "from sklearn.model_selection import train_test_split"
   ]
  },
  {
   "cell_type": "markdown",
   "id": "1d03980b",
   "metadata": {},
   "source": [
    "# split"
   ]
  },
  {
   "cell_type": "code",
   "execution_count": null,
   "id": "870159ff",
   "metadata": {},
   "outputs": [],
   "source": [
    "X_train,X_test,y_train,y_test=train_test_split(scaled_inputs,targets,train_size=0.8,random_state=20)"
   ]
  },
  {
   "cell_type": "markdown",
   "id": "e30ad411",
   "metadata": {},
   "source": [
    "# logisitic regression with sklearn"
   ]
  },
  {
   "cell_type": "code",
   "execution_count": null,
   "id": "087912bf",
   "metadata": {},
   "outputs": [],
   "source": [
    "from sklearn.linear_model import LogisticRegression \n",
    "from sklearn import metrics"
   ]
  },
  {
   "cell_type": "markdown",
   "id": "251a405d",
   "metadata": {},
   "source": [
    "# training the model"
   ]
  },
  {
   "cell_type": "code",
   "execution_count": null,
   "id": "1b17f47d",
   "metadata": {},
   "outputs": [],
   "source": [
    "reg=LogisticRegression()"
   ]
  },
  {
   "cell_type": "code",
   "execution_count": null,
   "id": "a77493e8",
   "metadata": {},
   "outputs": [],
   "source": [
    "#sklearn.linear_model.LogisticRegression.fit(x,y)\n",
    "#fits the model according to the given training data\n",
    "reg.fit(X_train,y_train) #does all the ML "
   ]
  },
  {
   "cell_type": "code",
   "execution_count": null,
   "id": "2f4db0e7",
   "metadata": {},
   "outputs": [],
   "source": [
    "#sklearn.linear_model.LogisticRegression.score(input,targets)\n",
    "#returns the mean accuracy on the given test data and labels\n",
    "reg.score(X_train,y_train)"
   ]
  },
  {
   "cell_type": "markdown",
   "id": "ab327b47",
   "metadata": {},
   "source": [
    "# manually check the accuracy"
   ]
  },
  {
   "cell_type": "code",
   "execution_count": null,
   "id": "68d539c1",
   "metadata": {},
   "outputs": [],
   "source": [
    "#sklearn.linear_model.LogisticRegression.predict(inputs)\n",
    "#predicts class labels(logistic Regression outputs) for given input samples\n",
    "model_outputs=reg.predict(X_train)\n",
    "model_outputs"
   ]
  },
  {
   "cell_type": "code",
   "execution_count": null,
   "id": "ad2e6773",
   "metadata": {},
   "outputs": [],
   "source": [
    "model_outputs==y_train   #compares predicted output to the actual output"
   ]
  },
  {
   "cell_type": "code",
   "execution_count": null,
   "id": "7d88b305",
   "metadata": {},
   "outputs": [],
   "source": [
    "np.sum((model_outputs==y_train)) #total number of correct predictions (True entries)"
   ]
  },
  {
   "cell_type": "code",
   "execution_count": null,
   "id": "cf910b29",
   "metadata": {},
   "outputs": [],
   "source": [
    "# acccuracy =correct predications/total no of observations\n",
    "model_outputs.shape[0]   #gives total no of observations"
   ]
  },
  {
   "cell_type": "code",
   "execution_count": null,
   "id": "58a6dca4",
   "metadata": {},
   "outputs": [],
   "source": [
    "#accuracy\n",
    "np.sum((model_outputs==y_train))/model_outputs.shape[0]  #same result as sklearn.score"
   ]
  },
  {
   "cell_type": "markdown",
   "id": "5b5077bd",
   "metadata": {},
   "source": [
    "# Finding the intercepts and coefficients"
   ]
  },
  {
   "cell_type": "code",
   "execution_count": null,
   "id": "bf699a2c",
   "metadata": {},
   "outputs": [],
   "source": [
    "reg.intercept_"
   ]
  },
  {
   "cell_type": "code",
   "execution_count": null,
   "id": "f2510186",
   "metadata": {},
   "outputs": [],
   "source": [
    "reg.coef_"
   ]
  },
  {
   "cell_type": "code",
   "execution_count": null,
   "id": "30c9b4c9",
   "metadata": {},
   "outputs": [],
   "source": [
    "feature_name=unscaled_inputs.columns.values\n",
    "feature_name"
   ]
  },
  {
   "cell_type": "code",
   "execution_count": null,
   "id": "0a5b2e33",
   "metadata": {},
   "outputs": [],
   "source": [
    "summary_table=pd.DataFrame(columns=['Feature Name'],data=feature_name)\n",
    "summary_table['Coefficients']=np.transpose(reg.coef_) \n",
    "summary_table"
   ]
  },
  {
   "cell_type": "code",
   "execution_count": null,
   "id": "1956687f",
   "metadata": {},
   "outputs": [],
   "source": [
    "#to add intercept to the summary table\n",
    "summary_table.index=summary_table.index+1  #increment index to put intercept at 0th location\n",
    "summary_table.loc[0]=['Intercept',reg.intercept_[0]]\n",
    "summary_table=summary_table.sort_index()\n",
    "summary_table"
   ]
  },
  {
   "cell_type": "markdown",
   "id": "916d9110",
   "metadata": {},
   "source": [
    "# interpreting the cofficients"
   ]
  },
  {
   "cell_type": "code",
   "execution_count": null,
   "id": "0b1bc774",
   "metadata": {},
   "outputs": [],
   "source": [
    "\n",
    "summary_table['Odd_Ratio']=np.exp(summary_table['Coefficients'])\n",
    "summary_table"
   ]
  },
  {
   "cell_type": "code",
   "execution_count": null,
   "id": "af75ea1f",
   "metadata": {},
   "outputs": [],
   "source": [
    "#DataFrame.sort_values(Series,ascending) \n",
    "#sorts the values in a data frame with respect to a given column(series)\n",
    "summary_table.sort_values('Odd_Ratio',ascending=False)"
   ]
  },
  {
   "cell_type": "markdown",
   "id": "ec0d072b",
   "metadata": {},
   "source": [
    "# Testing the Model"
   ]
  },
  {
   "cell_type": "code",
   "execution_count": null,
   "id": "05b33264",
   "metadata": {},
   "outputs": [],
   "source": [
    "reg.score(X_test,y_test)"
   ]
  },
  {
   "cell_type": "code",
   "execution_count": null,
   "id": "3ee43fc4",
   "metadata": {},
   "outputs": [],
   "source": [
    "#sklearn.linear_model.LogisticRegression.predict_proba(x)\n",
    "#returns the probability estimates for all possible outputs (classes)\n",
    "predicated_proba=reg.predict_proba(X_test)\n",
    "predicated_proba"
   ]
  },
  {
   "cell_type": "code",
   "execution_count": null,
   "id": "ef80d43a",
   "metadata": {},
   "outputs": [],
   "source": [
    "predicated_proba.shape"
   ]
  },
  {
   "cell_type": "code",
   "execution_count": null,
   "id": "1ba54ca2",
   "metadata": {},
   "outputs": [],
   "source": [
    "# we want probability of execessive absenteeism that is probability of being 1 ie second column\n",
    "predicated_proba[:,1]"
   ]
  },
  {
   "cell_type": "markdown",
   "id": "af01c1f2",
   "metadata": {},
   "source": [
    "# Save the model"
   ]
  },
  {
   "cell_type": "code",
   "execution_count": null,
   "id": "ee3c912c",
   "metadata": {},
   "outputs": [],
   "source": [
    "#pickle [module] is a Python module used to convert a Python object into a character stream\n",
    "import pickle"
   ]
  },
  {
   "cell_type": "code",
   "execution_count": null,
   "id": "c3a2b58e",
   "metadata": {},
   "outputs": [],
   "source": [
    "with open('model','wb') as file:   \n",
    "    pickle.dump(reg,file)          "
   ]
  },
  {
   "cell_type": "code",
   "execution_count": null,
   "id": "7e058e4e",
   "metadata": {},
   "outputs": [],
   "source": [
    "with open('scaler','wb') as file:\n",
    "    pickle.dump(absenteeism_scaler,file)"
   ]
  }
 ],
 "metadata": {
  "kernelspec": {
   "display_name": "Python 3 (ipykernel)",
   "language": "python",
   "name": "python3"
  },
  "language_info": {
   "codemirror_mode": {
    "name": "ipython",
    "version": 3
   },
   "file_extension": ".py",
   "mimetype": "text/x-python",
   "name": "python",
   "nbconvert_exporter": "python",
   "pygments_lexer": "ipython3",
   "version": "3.9.12"
  }
 },
 "nbformat": 4,
 "nbformat_minor": 5
}
