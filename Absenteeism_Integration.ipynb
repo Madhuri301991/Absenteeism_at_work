{
 "cells": [
  {
   "cell_type": "markdown",
   "id": "35242a19",
   "metadata": {},
   "source": [
    "# Using the Absenteeism_module.py file to train the new dataset. Storing the data in MySql "
   ]
  },
  {
   "cell_type": "code",
   "execution_count": null,
   "id": "1b17db82",
   "metadata": {},
   "outputs": [],
   "source": [
    "from absenteeism_module import *"
   ]
  },
  {
   "cell_type": "code",
   "execution_count": null,
   "id": "c369ef59",
   "metadata": {},
   "outputs": [],
   "source": [
    "pd.read_csv('absenteeism_new_data.csv')"
   ]
  },
  {
   "cell_type": "code",
   "execution_count": null,
   "id": "af7a4da3",
   "metadata": {},
   "outputs": [],
   "source": [
    "\n",
    "model=absenteeism_model('model','scaler')  #creates an instance of the model class "
   ]
  },
  {
   "cell_type": "code",
   "execution_count": null,
   "id": "9190a808",
   "metadata": {},
   "outputs": [],
   "source": [
    "model.load_and_clean('absenteeism_new_data.csv')  \n",
    "#preprocess the entire dataset we provide"
   ]
  },
  {
   "cell_type": "code",
   "execution_count": null,
   "id": "df086e41",
   "metadata": {},
   "outputs": [],
   "source": [
    "#predicated_outputs() its role is to feed the cleansed data into the model \n",
    "model.predicated_outputs()"
   ]
  },
  {
   "cell_type": "code",
   "execution_count": null,
   "id": "a65f4332",
   "metadata": {},
   "outputs": [],
   "source": [
    "# write the following command in anaconda prompt \n",
    "# pip install pymysql\n",
    "import pymysql    "
   ]
  },
  {
   "cell_type": "code",
   "execution_count": null,
   "id": "86e1f118",
   "metadata": {},
   "outputs": [],
   "source": [
    "conn=pymysql.connect(database='predicated_outputs',user='root',password='root123')"
   ]
  },
  {
   "cell_type": "code",
   "execution_count": null,
   "id": "b6cc7a97",
   "metadata": {},
   "outputs": [],
   "source": [
    "cursor=conn.cursor()"
   ]
  },
  {
   "cell_type": "markdown",
   "id": "04fa1e3b",
   "metadata": {},
   "source": [
    "# checkpoint df_new_obs"
   ]
  },
  {
   "cell_type": "code",
   "execution_count": null,
   "id": "32f7b33a",
   "metadata": {},
   "outputs": [],
   "source": [
    "df_new_obs=model.predicated_outputs()\n",
    "df_new_obs"
   ]
  },
  {
   "cell_type": "code",
   "execution_count": null,
   "id": "95f5fcca",
   "metadata": {},
   "outputs": [],
   "source": [
    "cursor.execute('select * from predicated_outputs;')  #.execute --> will execute the query "
   ]
  },
  {
   "cell_type": "markdown",
   "id": "ab5d4183",
   "metadata": {},
   "source": [
    "# Creating the INSERT statment"
   ]
  },
  {
   "cell_type": "code",
   "execution_count": null,
   "id": "6ba6e513",
   "metadata": {},
   "outputs": [],
   "source": [
    "insert_query='INSERT INTO predicated_outputs VALUES '"
   ]
  },
  {
   "cell_type": "code",
   "execution_count": null,
   "id": "96b65256",
   "metadata": {},
   "outputs": [],
   "source": [
    "for i in range(df_new_obs.shape[0]): \n",
    "    insert_query+= '('\n",
    "    for j in range(df_new_obs.shape[1]): \n",
    "        insert_query+=str(df_new_obs[df_new_obs.columns.values[j]][i])+', '\n",
    "    insert_query=insert_query[:-2]+'), '          \n",
    "    "
   ]
  },
  {
   "cell_type": "code",
   "execution_count": null,
   "id": "69904e35",
   "metadata": {},
   "outputs": [],
   "source": [
    "insert_query=insert_query[:-2]+';'  "
   ]
  },
  {
   "cell_type": "code",
   "execution_count": null,
   "id": "2fabd78c",
   "metadata": {},
   "outputs": [],
   "source": [
    "insert_query"
   ]
  },
  {
   "cell_type": "code",
   "execution_count": null,
   "id": "b7af70d6",
   "metadata": {
    "scrolled": true
   },
   "outputs": [],
   "source": [
    "cursor.execute(insert_query) #it will now execute the insert query"
   ]
  },
  {
   "cell_type": "code",
   "execution_count": null,
   "id": "c201d84c",
   "metadata": {},
   "outputs": [],
   "source": [
    "conn.commit()  "
   ]
  },
  {
   "cell_type": "code",
   "execution_count": null,
   "id": "04c0d688",
   "metadata": {},
   "outputs": [],
   "source": [
    "conn.close()"
   ]
  }
 ],
 "metadata": {
  "kernelspec": {
   "display_name": "Python 3 (ipykernel)",
   "language": "python",
   "name": "python3"
  },
  "language_info": {
   "codemirror_mode": {
    "name": "ipython",
    "version": 3
   },
   "file_extension": ".py",
   "mimetype": "text/x-python",
   "name": "python",
   "nbconvert_exporter": "python",
   "pygments_lexer": "ipython3",
   "version": "3.9.12"
  }
 },
 "nbformat": 4,
 "nbformat_minor": 5
}
